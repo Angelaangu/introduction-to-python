{
  "nbformat": 4,
  "nbformat_minor": 0,
  "metadata": {
    "colab": {
      "provenance": [],
      "authorship_tag": "ABX9TyNNEtT8SzvBIssB0wDVAWDY",
      "include_colab_link": true
    },
    "kernelspec": {
      "name": "python3",
      "display_name": "Python 3"
    },
    "language_info": {
      "name": "python"
    }
  },
  "cells": [
    {
      "cell_type": "markdown",
      "metadata": {
        "id": "view-in-github",
        "colab_type": "text"
      },
      "source": [
        "<a href=\"https://colab.research.google.com/github/Angelaangu/introduction-to-python/blob/main/Untitled14.ipynb\" target=\"_parent\"><img src=\"https://colab.research.google.com/assets/colab-badge.svg\" alt=\"Open In Colab\"/></a>"
      ]
    },
    {
      "cell_type": "code",
      "execution_count": 2,
      "metadata": {
        "colab": {
          "base_uri": "https://localhost:8080/"
        },
        "id": "h6yqvVfnqPob",
        "outputId": "6851f17c-e3a8-4481-93dd-a68ec916bfe0"
      },
      "outputs": [
        {
          "output_type": "stream",
          "name": "stdout",
          "text": [
            "enter the number5\n",
            "1 * 5 = 5\n",
            "2 * 5 = 10\n",
            "3 * 5 = 15\n",
            "4 * 5 = 20\n",
            "5 * 5 = 25\n",
            "6 * 5 = 30\n",
            "7 * 5 = 35\n",
            "8 * 5 = 40\n",
            "9 * 5 = 45\n",
            "10 * 5 = 50\n"
          ]
        }
      ],
      "source": [
        "n=int(input(\"enter the number\"))\n",
        "for i in range(1,11,1):\n",
        "  print(i,\"*\",n,\"=\",i*n)"
      ]
    },
    {
      "cell_type": "code",
      "source": [
        "n='121'\n",
        "rev=\"\"\n",
        "for i in n:\n",
        "  rev=i+rev\n",
        "if n==rev:\n",
        "  print(\"the number is a palindrome\")  \n",
        "else:\n",
        "  print(\"it is not a palindrome\")  "
      ],
      "metadata": {
        "colab": {
          "base_uri": "https://localhost:8080/"
        },
        "id": "z4JnKtZyxrdU",
        "outputId": "910e351d-c1f8-442a-a235-829e9983ce7e"
      },
      "execution_count": 8,
      "outputs": [
        {
          "output_type": "stream",
          "name": "stdout",
          "text": [
            "the number is a palindrome\n"
          ]
        }
      ]
    },
    {
      "cell_type": "code",
      "source": [
        "eng=int(input(\"enter the english marks\"))\n",
        "math=int(input(\"enter the maths marks\"))\n",
        "mal=int(input(\"enter the malayalam marks\"))\n",
        "sci=int(input(\"enter the science marks\"))\n",
        "soc=int(input(\"enter the social science marks\"))\n",
        "total=[eng+math+mal+sci+soc]\n",
        "print(total)\n",
        "v=[eng+math+mal+sci+soc]\n",
        "print(min(v))\n",
        "print(max(v))\n",
        "print()"
      ],
      "metadata": {
        "colab": {
          "base_uri": "https://localhost:8080/"
        },
        "id": "kiTl1RLN4uy4",
        "outputId": "016edfe2-6667-4eff-ffbc-d40a2cecaa0b"
      },
      "execution_count": 13,
      "outputs": [
        {
          "output_type": "stream",
          "name": "stdout",
          "text": [
            "enter the english marks90\n",
            "enter the maths marks60\n",
            "enter the malayalam marks89\n",
            "enter the science marks95\n",
            "enter the social science marks99\n",
            "[433]\n",
            "433\n",
            "433\n",
            "\n"
          ]
        }
      ]
    },
    {
      "cell_type": "code",
      "source": [],
      "metadata": {
        "id": "04me7zUS_t5X"
      },
      "execution_count": null,
      "outputs": []
    }
  ]
}