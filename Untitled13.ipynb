{
  "nbformat": 4,
  "nbformat_minor": 0,
  "metadata": {
    "colab": {
      "provenance": [],
      "authorship_tag": "ABX9TyO8kRXtvEuuoAbtUw+gJ4O8",
      "include_colab_link": true
    },
    "kernelspec": {
      "name": "python3",
      "display_name": "Python 3"
    },
    "language_info": {
      "name": "python"
    }
  },
  "cells": [
    {
      "cell_type": "markdown",
      "metadata": {
        "id": "view-in-github",
        "colab_type": "text"
      },
      "source": [
        "<a href=\"https://colab.research.google.com/github/Angelaangu/introduction-to-python/blob/main/Untitled13.ipynb\" target=\"_parent\"><img src=\"https://colab.research.google.com/assets/colab-badge.svg\" alt=\"Open In Colab\"/></a>"
      ]
    },
    {
      "cell_type": "code",
      "execution_count": 2,
      "metadata": {
        "colab": {
          "base_uri": "https://localhost:8080/"
        },
        "id": "u6Xs_60dg_Sm",
        "outputId": "bb4560a0-f997-4d3d-cfc9-d1b556f580df"
      },
      "outputs": [
        {
          "output_type": "stream",
          "name": "stdout",
          "text": [
            "enter the number10\n",
            "the value is 10\n"
          ]
        }
      ],
      "source": [
        "n=int(input(\"enter the number\"))\n",
        "if n<0:\n",
        "  print(\"the value is\",n*-1)\n",
        "else:\n",
        "  print(\"the value is\",n)  "
      ]
    },
    {
      "cell_type": "code",
      "source": [
        "m=int(input(\"enter the marks\"))\n",
        "if m<25:\n",
        "  print(\"the grade is F\")\n",
        "if m>25 and m<45:\n",
        "  print(\"the grade is E\")\n",
        "if m>45 and m<50:\n",
        "  print(\"the grade is D\")\n",
        "if m>50 and m<60:\n",
        "  print(\"the grade is C\")\n",
        "if m>60 and m<80:\n",
        "  print(\"the grade is B\")\n",
        "else:\n",
        "  print(\"the grade is A\")       "
      ],
      "metadata": {
        "colab": {
          "base_uri": "https://localhost:8080/"
        },
        "id": "tjQDVcfilEHP",
        "outputId": "d1755adf-4bf7-4e57-96b5-d646006d8783"
      },
      "execution_count": 5,
      "outputs": [
        {
          "output_type": "stream",
          "name": "stdout",
          "text": [
            "enter the marks90\n",
            "the grade is A\n"
          ]
        }
      ]
    },
    {
      "cell_type": "code",
      "source": [
        "cl=int(input(\"enter the number of classes held\"))\n",
        "att=int(input(\"enter the number of classes attended\"))\n",
        "x=cl/att*100\n",
        "if x>75:\n",
        "  print(\"student is allowed to sit for the exam\")\n",
        "else:\n",
        "  print(\"student is not allowed to sit for the exam\")  "
      ],
      "metadata": {
        "colab": {
          "base_uri": "https://localhost:8080/"
        },
        "id": "HzC2isepl01o",
        "outputId": "15e287c2-4820-4857-ba32-ea6ac2100da0"
      },
      "execution_count": 8,
      "outputs": [
        {
          "output_type": "stream",
          "name": "stdout",
          "text": [
            "enter the number of classes held100\n",
            "enter the number of classes attended80\n",
            "student is allowed to sit for the exam\n"
          ]
        }
      ]
    },
    {
      "cell_type": "code",
      "source": [
        "n=int(input(\"enter the first number\"))\n",
        "n2=int(input(\"enter the second number\"))\n",
        "add=n+n2\n",
        "print(\"the sum is\",add)"
      ],
      "metadata": {
        "colab": {
          "base_uri": "https://localhost:8080/"
        },
        "id": "fJMcF6FPpiQS",
        "outputId": "81aff68b-2ac3-4c3a-8f10-d89d1b2d598e"
      },
      "execution_count": 10,
      "outputs": [
        {
          "output_type": "stream",
          "name": "stdout",
          "text": [
            "enter the first number100\n",
            "enter the second number100\n",
            "the sum is 200\n"
          ]
        }
      ]
    },
    {
      "cell_type": "code",
      "source": [
        "n=int(input(\"enter the first number\"))\n",
        "n2=int(input(\"enter the second number\"))\n",
        "sub=n-n2\n",
        "print(\"the difference is\",sub)"
      ],
      "metadata": {
        "colab": {
          "base_uri": "https://localhost:8080/"
        },
        "id": "neQqxUcBqZUr",
        "outputId": "6a5d5ab0-3a95-4948-be09-51ab8552432c"
      },
      "execution_count": 12,
      "outputs": [
        {
          "output_type": "stream",
          "name": "stdout",
          "text": [
            "enter the first number500\n",
            "enter the second number100\n",
            "the difference is 400\n"
          ]
        }
      ]
    },
    {
      "cell_type": "code",
      "source": [
        "n=int(input(\"enter the first number\"))\n",
        "n2=int(input(\"enter the second number\"))\n",
        "mul=n*n2\n",
        "print(mul)"
      ],
      "metadata": {
        "colab": {
          "base_uri": "https://localhost:8080/"
        },
        "id": "RGoofS0Gq0DY",
        "outputId": "153ed010-2c66-4379-8b5c-929a68e312f4"
      },
      "execution_count": 13,
      "outputs": [
        {
          "output_type": "stream",
          "name": "stdout",
          "text": [
            "enter the first number2\n",
            "enter the second number10\n",
            "20\n"
          ]
        }
      ]
    },
    {
      "cell_type": "code",
      "source": [
        "n=int(input(\"enter the first number\"))\n",
        "n2=int(input(\"enter the second number\"))\n",
        "div=n/n2\n",
        "print(div)"
      ],
      "metadata": {
        "colab": {
          "base_uri": "https://localhost:8080/"
        },
        "id": "eQpyIEzprHqw",
        "outputId": "9a5a2423-6549-438a-8e5b-0abd88312cf9"
      },
      "execution_count": 18,
      "outputs": [
        {
          "output_type": "stream",
          "name": "stdout",
          "text": [
            "enter the first number100\n",
            "enter the second number2\n",
            "50.0\n"
          ]
        }
      ]
    },
    {
      "cell_type": "code",
      "source": [
        "n=int(input(\"enter the first number\"))\n",
        "n2=int(input(\"enter the second number\"))\n",
        "mod=n%n2\n",
        "print(mod)"
      ],
      "metadata": {
        "colab": {
          "base_uri": "https://localhost:8080/"
        },
        "id": "a0Qd3dLgrvHw",
        "outputId": "0c28fd18-918a-4e1f-b4bf-e040ccf21a7f"
      },
      "execution_count": 17,
      "outputs": [
        {
          "output_type": "stream",
          "name": "stdout",
          "text": [
            "enter the first number2\n",
            "enter the second number100\n",
            "2\n"
          ]
        }
      ]
    },
    {
      "cell_type": "code",
      "source": [
        "n=int(input(\"enter the first number\"))\n",
        "n2=int(input(\"enter the second number\"))\n",
        "floo=n//n2\n",
        "print(floo)"
      ],
      "metadata": {
        "colab": {
          "base_uri": "https://localhost:8080/"
        },
        "id": "rWcpkChXsBuA",
        "outputId": "796e79af-d840-4cba-cb57-9fed3ab46a90"
      },
      "execution_count": 19,
      "outputs": [
        {
          "output_type": "stream",
          "name": "stdout",
          "text": [
            "enter the first number100\n",
            "enter the second number2\n",
            "50\n"
          ]
        }
      ]
    },
    {
      "cell_type": "code",
      "source": [
        "n=int(input(\"enter the first number\"))\n",
        "n2=int(input(\"enter the second number\"))\n",
        "exp=n**n2\n",
        "print(exp)"
      ],
      "metadata": {
        "colab": {
          "base_uri": "https://localhost:8080/"
        },
        "id": "OBZiJaAVshOM",
        "outputId": "d3b8dda8-8f1c-4351-cfa6-106019d6efb2"
      },
      "execution_count": 20,
      "outputs": [
        {
          "output_type": "stream",
          "name": "stdout",
          "text": [
            "enter the first number5\n",
            "enter the second number2\n",
            "25\n"
          ]
        }
      ]
    },
    {
      "cell_type": "code",
      "source": [
        "pas=input(\"enter the name\")\n",
        "for i in pas:\n",
        "  print(i)"
      ],
      "metadata": {
        "colab": {
          "base_uri": "https://localhost:8080/"
        },
        "id": "Hq-bN8GHsqOk",
        "outputId": "bd61839b-40f5-4314-ce35-e86acd637957"
      },
      "execution_count": 22,
      "outputs": [
        {
          "output_type": "stream",
          "name": "stdout",
          "text": [
            "enter the nameangela\n",
            "a\n",
            "n\n",
            "g\n",
            "e\n",
            "l\n",
            "a\n"
          ]
        }
      ]
    },
    {
      "cell_type": "code",
      "source": [
        "for i in range(45,89,2):\n",
        "  print(i)"
      ],
      "metadata": {
        "colab": {
          "base_uri": "https://localhost:8080/"
        },
        "id": "Vlp3HA01tLfL",
        "outputId": "db2642c4-e31d-41d3-f374-8930e116e8fb"
      },
      "execution_count": 34,
      "outputs": [
        {
          "output_type": "stream",
          "name": "stdout",
          "text": [
            "45\n",
            "47\n",
            "49\n",
            "51\n",
            "53\n",
            "55\n",
            "57\n",
            "59\n",
            "61\n",
            "63\n",
            "65\n",
            "67\n",
            "69\n",
            "71\n",
            "73\n",
            "75\n",
            "77\n",
            "79\n",
            "81\n",
            "83\n",
            "85\n",
            "87\n"
          ]
        }
      ]
    },
    {
      "cell_type": "code",
      "source": [
        "num=int(input(\"enter the number\"))\n",
        "n=0+num\n",
        "for i in range(n):\n",
        "  a=i+1\n",
        "  print(a)                                                                                                                                                             "
      ],
      "metadata": {
        "colab": {
          "base_uri": "https://localhost:8080/"
        },
        "id": "3wmkxqAotpHW",
        "outputId": "40733bd2-7b77-4ac8-9727-659f33001d89"
      },
      "execution_count": 43,
      "outputs": [
        {
          "output_type": "stream",
          "name": "stdout",
          "text": [
            "enter the number1\n",
            "1\n"
          ]
        }
      ]
    },
    {
      "cell_type": "code",
      "source": [],
      "metadata": {
        "id": "ZUQ4iRYpvOO8"
      },
      "execution_count": null,
      "outputs": []
    }
  ]
}