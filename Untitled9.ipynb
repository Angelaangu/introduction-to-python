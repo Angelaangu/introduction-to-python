{
  "nbformat": 4,
  "nbformat_minor": 0,
  "metadata": {
    "colab": {
      "provenance": [],
      "authorship_tag": "ABX9TyPwDiaD3tcHmPPeTTJ1Dv+h",
      "include_colab_link": true
    },
    "kernelspec": {
      "name": "python3",
      "display_name": "Python 3"
    },
    "language_info": {
      "name": "python"
    }
  },
  "cells": [
    {
      "cell_type": "markdown",
      "metadata": {
        "id": "view-in-github",
        "colab_type": "text"
      },
      "source": [
        "<a href=\"https://colab.research.google.com/github/Angelaangu/introduction-to-python/blob/main/Untitled9.ipynb\" target=\"_parent\"><img src=\"https://colab.research.google.com/assets/colab-badge.svg\" alt=\"Open In Colab\"/></a>"
      ]
    },
    {
      "cell_type": "code",
      "execution_count": 7,
      "metadata": {
        "colab": {
          "base_uri": "https://localhost:8080/"
        },
        "id": "Eh8ikuCiqs8T",
        "outputId": "28f9c19c-c90f-4cb3-f806-ac8fc7eddea8"
      },
      "outputs": [
        {
          "output_type": "stream",
          "name": "stdout",
          "text": [
            "hello world\n"
          ]
        }
      ],
      "source": [
        "def angela():\n",
        "  print('hello world')\n",
        "angela()"
      ]
    },
    {
      "cell_type": "code",
      "source": [
        "def angela(x,y):\n",
        "  z=x+y\n",
        "  print('Result=',z)"
      ],
      "metadata": {
        "id": "WJKFbTUItT0S"
      },
      "execution_count": 13,
      "outputs": []
    },
    {
      "cell_type": "code",
      "source": [
        "angela(5,6)"
      ],
      "metadata": {
        "colab": {
          "base_uri": "https://localhost:8080/"
        },
        "id": "yIqFgUk0ui6p",
        "outputId": "baeefda0-21ea-461f-ecbe-e4f3fb23e70c"
      },
      "execution_count": 10,
      "outputs": [
        {
          "output_type": "stream",
          "name": "stdout",
          "text": [
            "result= 11\n"
          ]
        }
      ]
    },
    {
      "cell_type": "code",
      "source": [
        "def angela(x,y):\n",
        "  z=x-y\n",
        "  print(\"Result=\",z)"
      ],
      "metadata": {
        "id": "wJP5XN3au0r-"
      },
      "execution_count": 11,
      "outputs": []
    },
    {
      "cell_type": "code",
      "source": [
        "angela(5,6)"
      ],
      "metadata": {
        "colab": {
          "base_uri": "https://localhost:8080/"
        },
        "id": "hgy0sfWkvWhB",
        "outputId": "8c44ab64-c58c-4b70-b933-70f13c61960c"
      },
      "execution_count": 12,
      "outputs": [
        {
          "output_type": "stream",
          "name": "stdout",
          "text": [
            "Result= -1\n"
          ]
        }
      ]
    },
    {
      "cell_type": "code",
      "source": [
        "def angela(x,y):\n",
        "  z=x*y\n",
        "  print('Result=',z)"
      ],
      "metadata": {
        "id": "U76kfITOvZ7E"
      },
      "execution_count": 14,
      "outputs": []
    },
    {
      "cell_type": "code",
      "source": [
        "angela(5,6)"
      ],
      "metadata": {
        "colab": {
          "base_uri": "https://localhost:8080/"
        },
        "id": "Zp7hKO7-voDZ",
        "outputId": "95c183de-d6e1-4ea0-fb0c-3aa1aec7693f"
      },
      "execution_count": 15,
      "outputs": [
        {
          "output_type": "stream",
          "name": "stdout",
          "text": [
            "Result= 30\n"
          ]
        }
      ]
    },
    {
      "cell_type": "code",
      "source": [
        "def angela(x,y):\n",
        "  z=x/y\n",
        "  print(\"Result=\",z)"
      ],
      "metadata": {
        "id": "ElcCGq67vqi5"
      },
      "execution_count": 17,
      "outputs": []
    },
    {
      "cell_type": "code",
      "source": [
        "angela(5,6)"
      ],
      "metadata": {
        "colab": {
          "base_uri": "https://localhost:8080/"
        },
        "id": "s6zS0ol2vwpr",
        "outputId": "b81367a7-2938-4b22-c120-78c50da247aa"
      },
      "execution_count": 18,
      "outputs": [
        {
          "output_type": "stream",
          "name": "stdout",
          "text": [
            "Result= 0.8333333333333334\n"
          ]
        }
      ]
    },
    {
      "cell_type": "code",
      "source": [
        "def angela(x):\n",
        "  if x>250000:\n",
        "    print(\"you are taxable\")\n",
        "  else:\n",
        "    print(\"you are not taxable\")\n",
        "angela(x)      "
      ],
      "metadata": {
        "colab": {
          "base_uri": "https://localhost:8080/"
        },
        "id": "1NHC4aJ1v-fJ",
        "outputId": "dc17a104-3eb6-48f7-e4d3-cd1d2cb44a89"
      },
      "execution_count": 21,
      "outputs": [
        {
          "output_type": "stream",
          "name": "stdout",
          "text": [
            "600000\n",
            "you are taxable\n"
          ]
        }
      ]
    },
    {
      "cell_type": "code",
      "source": [
        "y=int(input(\"enter the salary\"))\n",
        "angela(y)"
      ],
      "metadata": {
        "colab": {
          "base_uri": "https://localhost:8080/"
        },
        "id": "efQluv2wwXp8",
        "outputId": "e6e22f03-2e79-4b42-fade-0d416cf9cbdc"
      },
      "execution_count": 22,
      "outputs": [
        {
          "output_type": "stream",
          "name": "stdout",
          "text": [
            "enter the salary300000\n",
            "you are taxable\n"
          ]
        }
      ]
    },
    {
      "cell_type": "code",
      "source": [
        "def add(a):\n",
        "  k=0\n",
        "  for i in range(x):\n",
        "    k=k+x\n",
        "  print(k)  \n"
      ],
      "metadata": {
        "id": "-bZonTW20fFC"
      },
      "execution_count": 23,
      "outputs": []
    },
    {
      "cell_type": "code",
      "source": [
        "val=int(input(\"enter the value\"))\n",
        "add(val)"
      ],
      "metadata": {
        "colab": {
          "base_uri": "https://localhost:8080/"
        },
        "id": "zRwMK83-5KhZ",
        "outputId": "876de5da-20bb-4271-8f0a-8d18099690aa"
      },
      "execution_count": 28,
      "outputs": [
        {
          "output_type": "stream",
          "name": "stdout",
          "text": [
            "enter the value20\n",
            "90000000000\n"
          ]
        }
      ]
    },
    {
      "cell_type": "code",
      "source": [
        "def add(x,y):\n",
        "  print(x+y)\n",
        "def sub(x,y): \n",
        "  print(x-y) "
      ],
      "metadata": {
        "id": "e6RgUEb_5Twl"
      },
      "execution_count": 31,
      "outputs": []
    },
    {
      "cell_type": "code",
      "source": [
        "x=int(input(\"enter a number\"))\n",
        "y=int(input(\"enter a number\"))\n",
        "add(x,y)\n",
        "sub(x,y)"
      ],
      "metadata": {
        "colab": {
          "base_uri": "https://localhost:8080/"
        },
        "id": "W07Px7Be868F",
        "outputId": "5c61e69d-33a7-4da5-9d1e-037e9c6962f8"
      },
      "execution_count": 33,
      "outputs": [
        {
          "output_type": "stream",
          "name": "stdout",
          "text": [
            "enter a number10\n",
            "enter a number30\n",
            "40\n",
            "-20\n"
          ]
        }
      ]
    },
    {
      "cell_type": "code",
      "source": [],
      "metadata": {
        "id": "5rrXv8D59W1Z"
      },
      "execution_count": null,
      "outputs": []
    }
  ]
}