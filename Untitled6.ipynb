{
  "nbformat": 4,
  "nbformat_minor": 0,
  "metadata": {
    "colab": {
      "provenance": [],
      "collapsed_sections": [],
      "authorship_tag": "ABX9TyNm294MJaYVNcDMYXgfr6CO",
      "include_colab_link": true
    },
    "kernelspec": {
      "name": "python3",
      "display_name": "Python 3"
    },
    "language_info": {
      "name": "python"
    }
  },
  "cells": [
    {
      "cell_type": "markdown",
      "metadata": {
        "id": "view-in-github",
        "colab_type": "text"
      },
      "source": [
        "<a href=\"https://colab.research.google.com/github/Angelaangu/introduction-to-python/blob/main/Untitled6.ipynb\" target=\"_parent\"><img src=\"https://colab.research.google.com/assets/colab-badge.svg\" alt=\"Open In Colab\"/></a>"
      ]
    },
    {
      "cell_type": "code",
      "source": [
        "s=int(input(\"enter the salary \"))\n",
        "if s<250000:\n",
        "    print(\"not taxable\")\n",
        "if s>=250000 and s<500000:\n",
        "    r=s-250000\n",
        "    y=10/100*r\n",
        "    print(\"taxable amt is\",r)\n",
        "    print(\"tax amt\",y)\n",
        "if s>=500000 and s<750000:\n",
        "    p=s-500000\n",
        "    y=20/100*p\n",
        "    a=y+25000\n",
        "    print(\"taxable amt is\",p)\n",
        "    print(\"tax amt is\",a)\n",
        "if s>=750000 and s<1000000:\n",
        "    p=s-7500000\n",
        "    y=30/100*p\n",
        "    b=y+125000\n",
        "    print(\"taxable amt is\",p)\n",
        "    print(\"TAX AMT IS\",b)\n",
        "if s>1000000:\n",
        "    p=s-1000000\n",
        "    y=32/100*p\n",
        "    d=y+275000\n",
        "    print(\"taxable amt is\",p)\n",
        "    print(\"tax amt is \",d)"
      ],
      "metadata": {
        "colab": {
          "base_uri": "https://localhost:8080/"
        },
        "id": "5Tt2B-tl0Z09",
        "outputId": "36f9b42b-b1e4-4c95-9c08-6b72b5ba734c"
      },
      "execution_count": 10,
      "outputs": [
        {
          "output_type": "stream",
          "name": "stdout",
          "text": [
            "enter the salary 600000\n",
            "taxable amt is 100000\n",
            "tax amt is 45000.0\n"
          ]
        }
      ]
    },
    {
      "cell_type": "code",
      "source": [],
      "metadata": {
        "id": "Vb_jxo277Tld"
      },
      "execution_count": 9,
      "outputs": []
    }
  ]
}