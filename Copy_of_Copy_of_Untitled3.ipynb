{
  "nbformat": 4,
  "nbformat_minor": 0,
  "metadata": {
    "colab": {
      "provenance": [],
      "collapsed_sections": [],
      "authorship_tag": "ABX9TyOq93lttf1/91mfQ9P4eglb",
      "include_colab_link": true
    },
    "kernelspec": {
      "name": "python3",
      "display_name": "Python 3"
    },
    "language_info": {
      "name": "python"
    }
  },
  "cells": [
    {
      "cell_type": "markdown",
      "metadata": {
        "id": "view-in-github",
        "colab_type": "text"
      },
      "source": [
        "<a href=\"https://colab.research.google.com/github/Angelaangu/introduction-to-python/blob/main/Copy_of_Copy_of_Untitled3.ipynb\" target=\"_parent\"><img src=\"https://colab.research.google.com/assets/colab-badge.svg\" alt=\"Open In Colab\"/></a>"
      ]
    },
    {
      "cell_type": "code",
      "execution_count": null,
      "metadata": {
        "colab": {
          "base_uri": "https://localhost:8080/"
        },
        "id": "87zUhQDJs3w6",
        "outputId": "c14b7daf-c73b-4a21-bda0-97644afe30b2"
      },
      "outputs": [
        {
          "output_type": "stream",
          "name": "stdout",
          "text": [
            "90\n",
            "you are passed\n"
          ]
        }
      ],
      "source": [
        "mark=int(input())\n",
        "if mark>50:\n",
        "  print(\"you are passed\")\n",
        "if mark<50:\n",
        "  print(\"you are failed\")"
      ]
    },
    {
      "cell_type": "code",
      "source": [
        "x=int(input())\n",
        "if x==50:\n",
        "  print(\"you are just passed\")\n",
        "if x>50:\n",
        "  print(\"you are passed\")\n",
        "if x<50: \n",
        "  print(\"you are failed\")\n"
      ],
      "metadata": {
        "colab": {
          "base_uri": "https://localhost:8080/"
        },
        "id": "PGf9p90dtJoF",
        "outputId": "f74b2675-bc08-4426-8431-5dda4bb433e0"
      },
      "execution_count": null,
      "outputs": [
        {
          "output_type": "stream",
          "name": "stdout",
          "text": [
            "50\n",
            "you are just passed\n"
          ]
        }
      ]
    },
    {
      "cell_type": "code",
      "source": [
        "sal=int(input())\n",
        "if sal>250000:\n",
        "  print(\"you are taxable\")\n",
        "if sal<250000:\n",
        "  print(\"you are not taxable\")  \n"
      ],
      "metadata": {
        "colab": {
          "base_uri": "https://localhost:8080/"
        },
        "id": "Yk0shb2mtprz",
        "outputId": "a2e73969-bad5-4ed9-ca71-8c47d130df1d"
      },
      "execution_count": null,
      "outputs": [
        {
          "output_type": "stream",
          "name": "stdout",
          "text": [
            "800000\n",
            "you are taxable\n"
          ]
        }
      ]
    },
    {
      "cell_type": "code",
      "source": [
        "sal=int(input())\n",
        "if sal>=250000:\n",
        "  print(\"you are taxble\")\n",
        "if sal<250000:  \n",
        "  print(\"you are not taxable\")\n"
      ],
      "metadata": {
        "colab": {
          "base_uri": "https://localhost:8080/"
        },
        "id": "Xack9h9Jt3XZ",
        "outputId": "d95976a2-b9da-4845-851c-b2855b7b9eb4"
      },
      "execution_count": null,
      "outputs": [
        {
          "output_type": "stream",
          "name": "stdout",
          "text": [
            "250000\n",
            "you are taxble\n"
          ]
        }
      ]
    },
    {
      "cell_type": "code",
      "source": [
        "sal=int(input())\n",
        "if sal>=250000:\n",
        "  print(\"you are taxable\")\n",
        "  r=sal-250000\n",
        "  print(r)\n",
        "  s=r*10/100\n",
        "  print(s)\n",
        "if sal<250000: \n",
        "  print(\"you are not taxable\")\n",
        "if sal==250000: \n",
        "  print(\"you are taxable\")  "
      ],
      "metadata": {
        "colab": {
          "base_uri": "https://localhost:8080/"
        },
        "id": "TOFDpAINuMpq",
        "outputId": "2d7f3b22-fe09-4731-f0ad-6811551e0e86"
      },
      "execution_count": null,
      "outputs": [
        {
          "output_type": "stream",
          "name": "stdout",
          "text": [
            "300000\n",
            "you are taxable\n",
            "50000\n",
            "5000.0\n"
          ]
        }
      ]
    },
    {
      "cell_type": "code",
      "source": [
        "sal=int(input())\n",
        "if sal<250000:\n",
        "  print(\"you are not taxable\")\n",
        "if sal>250000 and sal<250000: \n",
        "  print((sal-250000)*10/100,\"taxable\")\n",
        "if sal>500000:\n",
        "  print((sal-500000)*10/100,\"taxable\")   "
      ],
      "metadata": {
        "colab": {
          "base_uri": "https://localhost:8080/"
        },
        "id": "O3eVs_FIudhK",
        "outputId": "5f0dd5b8-f3e8-4a34-a7de-2cb50354bf19"
      },
      "execution_count": null,
      "outputs": [
        {
          "output_type": "stream",
          "name": "stdout",
          "text": [
            "700000\n",
            "20000.0 taxable\n"
          ]
        }
      ]
    },
    {
      "cell_type": "code",
      "source": [],
      "metadata": {
        "id": "6yhWtc_qviZ4"
      },
      "execution_count": null,
      "outputs": []
    }
  ]
}