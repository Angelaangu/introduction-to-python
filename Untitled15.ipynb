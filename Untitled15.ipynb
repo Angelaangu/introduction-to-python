{
  "nbformat": 4,
  "nbformat_minor": 0,
  "metadata": {
    "colab": {
      "provenance": [],
      "authorship_tag": "ABX9TyPSMnaWtNy6WDQQGRjbcM+z",
      "include_colab_link": true
    },
    "kernelspec": {
      "name": "python3",
      "display_name": "Python 3"
    },
    "language_info": {
      "name": "python"
    }
  },
  "cells": [
    {
      "cell_type": "markdown",
      "metadata": {
        "id": "view-in-github",
        "colab_type": "text"
      },
      "source": [
        "<a href=\"https://colab.research.google.com/github/Angelaangu/introduction-to-python/blob/main/Untitled15.ipynb\" target=\"_parent\"><img src=\"https://colab.research.google.com/assets/colab-badge.svg\" alt=\"Open In Colab\"/></a>"
      ]
    },
    {
      "cell_type": "code",
      "execution_count": 1,
      "metadata": {
        "colab": {
          "base_uri": "https://localhost:8080/"
        },
        "id": "JhcWM6Dt1IRR",
        "outputId": "63898d7f-4d57-4545-dc8b-62f999ce6d7b"
      },
      "outputs": [
        {
          "output_type": "execute_result",
          "data": {
            "text/plain": [
              "int"
            ]
          },
          "metadata": {},
          "execution_count": 1
        }
      ],
      "source": [
        "n=10\n",
        "type(n)"
      ]
    },
    {
      "cell_type": "code",
      "source": [
        "n=10.6\n",
        "type(n)"
      ],
      "metadata": {
        "colab": {
          "base_uri": "https://localhost:8080/"
        },
        "id": "moHM4RN33ENw",
        "outputId": "81be4349-b074-41a5-cf64-1c1a4542d977"
      },
      "execution_count": 2,
      "outputs": [
        {
          "output_type": "execute_result",
          "data": {
            "text/plain": [
              "float"
            ]
          },
          "metadata": {},
          "execution_count": 2
        }
      ]
    },
    {
      "cell_type": "code",
      "source": [
        "n=10\n",
        "a=12.7\n",
        "v=n+a\n",
        "print(v)\n",
        "type(v)"
      ],
      "metadata": {
        "colab": {
          "base_uri": "https://localhost:8080/"
        },
        "id": "yDa1-Vni3Pq_",
        "outputId": "dda42905-7b4a-4ab1-bc78-3f6003ee85da"
      },
      "execution_count": 5,
      "outputs": [
        {
          "output_type": "stream",
          "name": "stdout",
          "text": [
            "22.7\n"
          ]
        },
        {
          "output_type": "execute_result",
          "data": {
            "text/plain": [
              "float"
            ]
          },
          "metadata": {},
          "execution_count": 5
        }
      ]
    },
    {
      "cell_type": "code",
      "source": [
        "l=\"angela\"\n",
        "type(l)"
      ],
      "metadata": {
        "colab": {
          "base_uri": "https://localhost:8080/"
        },
        "id": "Qiq-1LDb3ioO",
        "outputId": "c1982111-cc70-4f88-87e0-48884ee44457"
      },
      "execution_count": 4,
      "outputs": [
        {
          "output_type": "execute_result",
          "data": {
            "text/plain": [
              "str"
            ]
          },
          "metadata": {},
          "execution_count": 4
        }
      ]
    },
    {
      "cell_type": "code",
      "source": [
        "friends=['gouri','anarkali','jifana','andrea','irene']\n",
        "type(friends)"
      ],
      "metadata": {
        "colab": {
          "base_uri": "https://localhost:8080/"
        },
        "id": "0EalZq-y4a5f",
        "outputId": "c6c177a6-5d9e-4ba1-bc9d-eff990e5d739"
      },
      "execution_count": 7,
      "outputs": [
        {
          "output_type": "execute_result",
          "data": {
            "text/plain": [
              "list"
            ]
          },
          "metadata": {},
          "execution_count": 7
        }
      ]
    },
    {
      "cell_type": "code",
      "source": [
        "friends=['gouri','anarkali','jifana','andrea','irene']\n",
        "print(friends[1])"
      ],
      "metadata": {
        "colab": {
          "base_uri": "https://localhost:8080/"
        },
        "outputId": "adce8bb1-6ce5-4d3a-8af6-0cd0f9bb2de3",
        "id": "qMeTBJ2a6yE3"
      },
      "execution_count": 9,
      "outputs": [
        {
          "output_type": "stream",
          "name": "stdout",
          "text": [
            "anarkali\n"
          ]
        }
      ]
    },
    {
      "cell_type": "code",
      "source": [
        "friends=[\"leyan\",'vishal','alhaad','aman','jyothish']\n",
        "friends1=['gouri','anarkali','jifana','andrea','irene']\n",
        "a=friends+friends1\n",
        "print(a)\n",
        "friends.pop(1)"
      ],
      "metadata": {
        "colab": {
          "base_uri": "https://localhost:8080/",
          "height": 54
        },
        "id": "2kzz4qMK68Sk",
        "outputId": "de3af4b0-7c05-4b4d-c0d0-f946083ace94"
      },
      "execution_count": 10,
      "outputs": [
        {
          "output_type": "stream",
          "name": "stdout",
          "text": [
            "['leyan', 'vishal', 'alhaad', 'aman', 'jyothish', 'gouri', 'anarkali', 'jifana', 'andrea', 'irene']\n"
          ]
        },
        {
          "output_type": "execute_result",
          "data": {
            "text/plain": [
              "'vishal'"
            ],
            "application/vnd.google.colaboratory.intrinsic+json": {
              "type": "string"
            }
          },
          "metadata": {},
          "execution_count": 10
        }
      ]
    },
    {
      "cell_type": "code",
      "source": [
        "friends1.append(\"athira\")\n",
        "print(friends1)"
      ],
      "metadata": {
        "colab": {
          "base_uri": "https://localhost:8080/"
        },
        "id": "drSFvzya9ehh",
        "outputId": "711cc4dc-7abb-45fc-a9e7-1258c292852b"
      },
      "execution_count": 12,
      "outputs": [
        {
          "output_type": "stream",
          "name": "stdout",
          "text": [
            "['gouri', 'anarkali', 'jifana', 'andrea', 'irene', 'athira', 'athira']\n"
          ]
        }
      ]
    },
    {
      "cell_type": "code",
      "source": [
        "friends=[\"leyan\",'vishal','alhaad','aman','jyothish']\n",
        "friends1=['gouri','anarkali','jifana','andrea','athira']\n",
        "friends.sort()\n",
        "print(friends)"
      ],
      "metadata": {
        "colab": {
          "base_uri": "https://localhost:8080/"
        },
        "id": "ac--AB7B--a8",
        "outputId": "5747ca54-158a-4428-99ca-b78836133cc7"
      },
      "execution_count": 14,
      "outputs": [
        {
          "output_type": "stream",
          "name": "stdout",
          "text": [
            "['alhaad', 'aman', 'jyothish', 'leyan', 'vishal']\n"
          ]
        }
      ]
    },
    {
      "cell_type": "code",
      "source": [
        "friends=[\"leyan\",'vishal','alhaad','aman','jyothish']\n",
        "friends1=['gouri','anarkali','jifana','andrea','athira']\n",
        "friends1.reverse()\n",
        "print(friends1)"
      ],
      "metadata": {
        "colab": {
          "base_uri": "https://localhost:8080/"
        },
        "id": "X-jS6S67_zY8",
        "outputId": "2037c4ea-9356-40a5-c3e6-52cc51b91110"
      },
      "execution_count": 16,
      "outputs": [
        {
          "output_type": "stream",
          "name": "stdout",
          "text": [
            "['athira', 'andrea', 'jifana', 'anarkali', 'gouri']\n"
          ]
        }
      ]
    },
    {
      "cell_type": "code",
      "source": [
        "friends1=['gouri','anarkali','jifana','andrea','athira']\n",
        "friends1.insert(3,\"irene\")\n",
        "print(friends1)"
      ],
      "metadata": {
        "colab": {
          "base_uri": "https://localhost:8080/"
        },
        "id": "TDQV3fZpAB0k",
        "outputId": "efec0d55-63db-41c0-ad3e-0f2cc7be4e84"
      },
      "execution_count": 17,
      "outputs": [
        {
          "output_type": "stream",
          "name": "stdout",
          "text": [
            "['gouri', 'anarkali', 'jifana', 'irene', 'andrea', 'athira']\n"
          ]
        }
      ]
    },
    {
      "cell_type": "code",
      "source": [
        "t=(1,2,3,4,5)\n",
        "type(t)"
      ],
      "metadata": {
        "colab": {
          "base_uri": "https://localhost:8080/"
        },
        "id": "TxC9U42GEW9Y",
        "outputId": "8229bbd7-2ba3-45f5-9bdc-53e57ff5ed71"
      },
      "execution_count": 18,
      "outputs": [
        {
          "output_type": "execute_result",
          "data": {
            "text/plain": [
              "tuple"
            ]
          },
          "metadata": {},
          "execution_count": 18
        }
      ]
    },
    {
      "cell_type": "code",
      "source": [
        "marks=(10,20,30,40,50)\n",
        "s=set(marks)\n",
        "print(s)"
      ],
      "metadata": {
        "colab": {
          "base_uri": "https://localhost:8080/"
        },
        "id": "PAxFZqd_IoHY",
        "outputId": "35a30bc5-54f2-46eb-c75e-8dddc317078d"
      },
      "execution_count": 19,
      "outputs": [
        {
          "output_type": "stream",
          "name": "stdout",
          "text": [
            "{40, 10, 50, 20, 30}\n"
          ]
        }
      ]
    },
    {
      "cell_type": "code",
      "source": [
        "d={\"name\":\"angela\",\"phoneno\":\"9895566442\",\"place\":\"kochi\"}\n",
        "print(d)"
      ],
      "metadata": {
        "colab": {
          "base_uri": "https://localhost:8080/"
        },
        "id": "WMfH45SmIzyn",
        "outputId": "bdf6fedc-61f2-4317-b7b2-cc6058f755b7"
      },
      "execution_count": 20,
      "outputs": [
        {
          "output_type": "stream",
          "name": "stdout",
          "text": [
            "{'name': 'angela', 'phoneno': '9895566442', 'place': 'kochi'}\n"
          ]
        }
      ]
    },
    {
      "cell_type": "code",
      "source": [
        "d={\"name\":\"angela\",\"phoneno\":\"9895566442\",\"place\":\"kochi\"}\n",
        "print(d.keys())\n",
        "print(d.values())"
      ],
      "metadata": {
        "colab": {
          "base_uri": "https://localhost:8080/"
        },
        "id": "cSn_KBl9JFp_",
        "outputId": "53dafa43-42ca-49c7-c440-147451f85b7b"
      },
      "execution_count": 21,
      "outputs": [
        {
          "output_type": "stream",
          "name": "stdout",
          "text": [
            "dict_keys(['name', 'phoneno', 'place'])\n",
            "dict_values(['angela', '9895566442', 'kochi'])\n"
          ]
        }
      ]
    },
    {
      "cell_type": "code",
      "source": [
        "d={\"name\":\"angela\",\"phoneno\":\"9895566442\",\"place\":\"kochi\"}\n",
        "print(d.items())"
      ],
      "metadata": {
        "colab": {
          "base_uri": "https://localhost:8080/"
        },
        "id": "HcCh6eK5Jl68",
        "outputId": "2d8b6089-5728-45e1-b8f3-59e28aa51768"
      },
      "execution_count": 24,
      "outputs": [
        {
          "output_type": "stream",
          "name": "stdout",
          "text": [
            "dict_items([('name', 'angela'), ('phoneno', '9895566442'), ('place', 'kochi')])\n"
          ]
        }
      ]
    },
    {
      "cell_type": "code",
      "source": [
        "d={\"name\":\"angela\",\"phoneno\":\"9895566442\",\"place\":\"kochi\"}\n",
        "d.update({\"dob\":\"20-11-2004\"})\n",
        "print(d)"
      ],
      "metadata": {
        "colab": {
          "base_uri": "https://localhost:8080/"
        },
        "id": "ispWd65nLW2J",
        "outputId": "783a2092-643c-448d-f6a2-4801c19ea05a"
      },
      "execution_count": 25,
      "outputs": [
        {
          "output_type": "stream",
          "name": "stdout",
          "text": [
            "{'name': 'angela', 'phoneno': '9895566442', 'place': 'kochi', 'dob': '20-11-2004'}\n"
          ]
        }
      ]
    },
    {
      "cell_type": "code",
      "source": [
        "def add(x,y):\n",
        "  return(x+y)\n",
        "add(10,20)  "
      ],
      "metadata": {
        "colab": {
          "base_uri": "https://localhost:8080/"
        },
        "id": "d1p1qWNpMkXj",
        "outputId": "51131a9a-d807-4468-b6ba-bebb6787fc95"
      },
      "execution_count": 26,
      "outputs": [
        {
          "output_type": "execute_result",
          "data": {
            "text/plain": [
              "30"
            ]
          },
          "metadata": {},
          "execution_count": 26
        }
      ]
    },
    {
      "cell_type": "code",
      "source": [
        "def multi(x,y,z):\n",
        "  return(x*y*z)\n",
        "multi(2,3,6)  "
      ],
      "metadata": {
        "colab": {
          "base_uri": "https://localhost:8080/"
        },
        "id": "o3aRC_JWMxCv",
        "outputId": "76b1ba10-c9f7-4bbc-beca-ff8d1468b6fc"
      },
      "execution_count": 27,
      "outputs": [
        {
          "output_type": "execute_result",
          "data": {
            "text/plain": [
              "36"
            ]
          },
          "metadata": {},
          "execution_count": 27
        }
      ]
    }
  ]
}