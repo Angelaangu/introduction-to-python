{
  "nbformat": 4,
  "nbformat_minor": 0,
  "metadata": {
    "colab": {
      "provenance": [],
      "collapsed_sections": [],
      "authorship_tag": "ABX9TyNgSDATvU5d7Y1+7WRWwuvm",
      "include_colab_link": true
    },
    "kernelspec": {
      "name": "python3",
      "display_name": "Python 3"
    },
    "language_info": {
      "name": "python"
    }
  },
  "cells": [
    {
      "cell_type": "markdown",
      "metadata": {
        "id": "view-in-github",
        "colab_type": "text"
      },
      "source": [
        "<a href=\"https://colab.research.google.com/github/Angelaangu/introduction-to-python/blob/main/Untitled11.ipynb\" target=\"_parent\"><img src=\"https://colab.research.google.com/assets/colab-badge.svg\" alt=\"Open In Colab\"/></a>"
      ]
    },
    {
      "cell_type": "code",
      "execution_count": 1,
      "metadata": {
        "colab": {
          "base_uri": "https://localhost:8080/"
        },
        "id": "WrD7KYPXnvZS",
        "outputId": "6f3b1e62-3612-4916-d52f-d1478d3157ff"
      },
      "outputs": [
        {
          "name": "stdout",
          "output_type": "stream",
          "text": [
            "enter the travel sourceMAKE MY TRIP\n",
            "enter the destinationMANALI\n",
            "enter the number of passengers5\n"
          ]
        }
      ],
      "source": [
        "s=input(\"enter the travel source\")\n",
        "d=input(\"enter the destination\")\n",
        "n=int(input(\"enter the number of passengers\"))\n",
        "print(s,d,n)"
      ]
    },
    {
      "cell_type": "code",
      "source": [
        "t=int(input(\"enter the total fare\"))\n",
        "n=int(input(\"enter the number of passengers\"))\n",
        "d=t//n\n",
        "print(\"ticket fare per person is\",d)"
      ],
      "metadata": {
        "colab": {
          "base_uri": "https://localhost:8080/"
        },
        "id": "5UeQZtK6qm17",
        "outputId": "6a9025fd-91c4-42de-932e-0b64ed9d81fe"
      },
      "execution_count": 4,
      "outputs": [
        {
          "output_type": "stream",
          "name": "stdout",
          "text": [
            "enter the total fare50000\n",
            "enter the number of passengers5\n",
            "ticket fare per person is 10000\n"
          ]
        }
      ]
    },
    {
      "cell_type": "code",
      "source": [
        "na=input(\"enter the name\")\n",
        "f=int(input(\"enter the fare\"))\n",
        "print(na,f)"
      ],
      "metadata": {
        "colab": {
          "base_uri": "https://localhost:8080/"
        },
        "id": "3gEu-E3ZsS1I",
        "outputId": "b4063798-6612-48c1-c338-7b42a4fd4c90"
      },
      "execution_count": 14,
      "outputs": [
        {
          "output_type": "stream",
          "name": "stdout",
          "text": [
            "enter the nameANGELA\n",
            "enter the fare10000\n",
            "ANGELA 10000\n"
          ]
        }
      ]
    },
    {
      "cell_type": "code",
      "source": [
        "t=int(input(\"enter the total fare\"))\n",
        "if t>10000:\n",
        "  print(\"ELIGIBLE FOR DISCOUNT\")\n",
        "else:\n",
        "  print(\"NOT ELIGIBLE FOR DISCOUNT\")  "
      ],
      "metadata": {
        "colab": {
          "base_uri": "https://localhost:8080/"
        },
        "id": "pr6CxiYzvble",
        "outputId": "89e06ff3-9d2d-4b0b-f1ad-2e8b67f5dfdd"
      },
      "execution_count": 16,
      "outputs": [
        {
          "output_type": "stream",
          "name": "stdout",
          "text": [
            "enter the total fare50000\n",
            "ELIGIBLE FOR DISCOUNT\n"
          ]
        }
      ]
    },
    {
      "cell_type": "code",
      "source": [
        "t=int(input(\"enter the total fare\"))\n",
        "if t>15000:\n",
        "  print(\"ELIGIBLE FOR 20% DISCOUNT\")\n",
        "else:\n",
        "  print(\"ELIGIBLE FOR 10% DISCOUNT\")  \n"
      ],
      "metadata": {
        "colab": {
          "base_uri": "https://localhost:8080/"
        },
        "id": "c_AYVoRo1Vu2",
        "outputId": "efaac446-6ecf-4c14-c6b1-323892c8f187"
      },
      "execution_count": 18,
      "outputs": [
        {
          "output_type": "stream",
          "name": "stdout",
          "text": [
            "enter the total fare60000\n",
            "ELIGIBLE FOR 20% DISCOUNT\n"
          ]
        }
      ]
    },
    {
      "cell_type": "code",
      "source": [
        "t=int(input(\"enter the fare\"))\n",
        "if t>15000:\n",
        "  s=t*20/100\n",
        "  print(\"apply 20% discount\",s)\n",
        "if t>10000:\n",
        "  n=t*10/100\n",
        "  print(\"apply 10% discount\",n)\n",
        "if t<10000:\n",
        "  c=t*5/100\n",
        "  print(\"apply 5% discount\",c)  \n"
      ],
      "metadata": {
        "colab": {
          "base_uri": "https://localhost:8080/"
        },
        "id": "QqwEMToh5dum",
        "outputId": "5bc4cdbb-ef5d-4d68-f7ac-ab067344b8de"
      },
      "execution_count": 20,
      "outputs": [
        {
          "output_type": "stream",
          "name": "stdout",
          "text": [
            "enter the fare14000\n",
            "apply 10% discount 1400.0\n"
          ]
        }
      ]
    },
    {
      "cell_type": "code",
      "source": [
        "n=int(input(\"enter the number\"))\n",
        "if n==1:\n",
        "  print(\"the number is positive\")\n",
        "elif n==(-1):\n",
        "  print(\"the number is negative\")\n",
        "else:\n",
        "  print(\"the number is zero\")    "
      ],
      "metadata": {
        "colab": {
          "base_uri": "https://localhost:8080/"
        },
        "id": "iHr0qnl59Mu9",
        "outputId": "56fd5c70-2d9f-44b7-f0ea-47b832a8a225"
      },
      "execution_count": 24,
      "outputs": [
        {
          "output_type": "stream",
          "name": "stdout",
          "text": [
            "enter the number0\n",
            "the number is zero\n"
          ]
        }
      ]
    }
  ]
}